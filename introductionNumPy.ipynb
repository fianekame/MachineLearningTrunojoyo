{
 "cells": [
  {
   "cell_type": "markdown",
   "metadata": {},
   "source": [
    "# NumPy, SciPy\n",
    "\n",
    "*Indah Agustien Siradjuddin*\n",
    "\n",
    "Pengenalan library NumPy, SciPy"
   ]
  },
  {
   "cell_type": "markdown",
   "metadata": {},
   "source": [
    "## Pendahuluan\n",
    "\n",
    "Pada komputasi, pengolahan data numerik melalui suatu program sering dibutuhkan.  Python secara umum telah menyediakan fasilitas untuk menyimpan data numerik ini dengan menggunakan **list** ataupun **dictionaries**.  Akan tetapi jika hanya dibutuhkan tempat penyimpanan data numerik saja, maka akan lebih efektif jika menggunakan library **NumPy**.\n",
    "\n",
    "Kelebihan yang diberikan NumPy dibandingkan dengan list ataupun dictionaries adalah numPy lebih dekat dengan hardware sehingga waktu komputasi yang dibutuhkan untuk proses komputasi sangatlah cepat, numPy menyediakan berbagai fungsi ataupun method untuk proses komputasi. "
   ]
  },
  {
   "cell_type": "markdown",
   "metadata": {},
   "source": [
    "## Mode Bantuan\n",
    "\n",
    "Library NumPy menyedikan juga bantuan interaktif untuk para programmer dalam membuat suatu program.  Dengan bantuan ini, programmer dapat mencari syntax-syntax yang dibutuhkan"
   ]
  },
  {
   "cell_type": "code",
   "execution_count": 1,
   "metadata": {
    "collapsed": true
   },
   "outputs": [],
   "source": [
    "import numpy as np"
   ]
  },
  {
   "cell_type": "code",
   "execution_count": null,
   "metadata": {
    "collapsed": true
   },
   "outputs": [],
   "source": []
  },
  {
   "cell_type": "code",
   "execution_count": 2,
   "metadata": {
    "collapsed": false
   },
   "outputs": [
    {
     "name": "stdout",
     "output_type": "stream",
     "text": [
      "Search results for 'max'\n",
      "------------------------\n",
      "numpy.amax\n",
      "    Return the maximum of an array or maximum along an axis.\n",
      "numpy.fmax\n",
      "    Element-wise maximum of array elements.\n",
      "numpy.argmax\n",
      "    Returns the indices of the maximum values along an axis.\n",
      "numpy.nanmax\n",
      "    Return the maximum of an array or maximum along an axis, ignoring any\n",
      "numpy.maximum\n",
      "    Element-wise maximum of array elements.\n",
      "numpy.nanargmax\n",
      "    Return the indices of the maximum values in the specified axis ignoring\n",
      "numpy.ptp\n",
      "    Range of values (maximum - minimum) along an axis.\n",
      "numpy.ma.max\n",
      "    Return the maximum along a given axis.\n",
      "numpy.ma.argmax\n",
      "    Returns array of indices of the maximum values along the given axis.\n",
      "numpy.ma.maximum\n",
      "    Object to calculate maxima\n",
      "numpy.matrix.max\n",
      "    Return the maximum value along an axis.\n",
      "numpy.chararray.max\n",
      "    Return the maximum along a given axis.\n",
      "numpy.ma.ptp\n",
      "    Return (maximum - minimum) along the the given dimension\n",
      "numpy.matrix.argmax\n",
      "    Indexes of the maximum values along an axis.\n",
      "numpy.shares_memory\n",
      "    Determine if two arrays share memory\n",
      "numpy.chararray.argmax\n",
      "    Return indices of the maximum values along the given axis.\n",
      "numpy.matrix.ptp\n",
      "    Peak-to-peak (maximum - minimum) value along the given axis.\n",
      "numpy.str0.split\n",
      "    Return a list of the words in S, using sep as the\n",
      "numpy.may_share_memory\n",
      "    Determine if two arrays might share memory\n",
      "numpy.chararray.ptp\n",
      "    Peak to peak (maximum - minimum) value along a given axis.\n",
      "numpy.str0.rsplit\n",
      "    Return a list of the words in S, using sep as the\n",
      "numpy.chararray.clip\n",
      "    Return an array whose values are limited to ``[min, max]``.\n",
      "numpy.ma.MaskedArray.max\n",
      "    Return the maximum along a given axis.\n",
      "numpy.ma.MaskedArray.argmax\n",
      "    Returns array of indices of the maximum values along the given axis.\n",
      "numpy.ma.minimum_fill_value\n",
      "    Return the maximum value that can be represented by the dtype of an object.\n",
      "numpy.ma.MaskedArray.ptp\n",
      "    Return (maximum - minimum) along the the given dimension\n",
      "numpy.ma.MaskedArray.clip\n",
      "    Return an array whose values are limited to ``[min, max]``.\n",
      "numpy.f2py.capi_maps.cb_routsign2map\n",
      "    name,begintitle,endtitle,argname\n",
      "numpy.pad\n",
      "    Pads an array.\n",
      "numpy.std\n",
      "    Compute the standard deviation along the specified axis.\n",
      "numpy.var\n",
      "    Compute the variance along the specified axis.\n",
      "numpy.amin\n",
      "    Return the minimum of an array or minimum along an axis.\n",
      "numpy.clip\n",
      "    Clip (limit) the values in an array.\n",
      "numpy.fmin\n",
      "    Element-wise minimum of array elements.\n",
      "numpy.info\n",
      "    Get help information for a function, class, or module.\n",
      "numpy.rate\n",
      "    Compute the rate of interest per period.\n",
      "numpy.tile\n",
      "    Construct an array by repeating A the number of times given by reps.\n",
      "numpy.finfo\n",
      "    finfo(dtype)\n",
      "numpy.iinfo\n",
      "    iinfo(type)\n",
      "numpy.MachAr\n",
      "    Diagnosing machine parameters.\n",
      "numpy.argmin\n",
      "    Returns the indices of the minimum values along an axis.\n",
      "numpy.kaiser\n",
      "    Return the Kaiser window.\n",
      "numpy.nanmin\n",
      "    Return minimum of an array or minimum along an axis, ignoring any NaNs.\n",
      "numpy.nanstd\n",
      "    Compute the standard deviation along the specified axis, while\n",
      "numpy.nanvar\n",
      "    Compute the variance along the specified axis, while ignoring NaNs.\n",
      "numpy.unwrap\n",
      "    Unwrap by changing deltas between values to 2*pi complement.\n",
      "numpy.hamming\n",
      "    Return the Hamming window.\n",
      "numpy.hanning\n",
      "    Return the Hanning window.\n",
      "numpy.minimum\n",
      "    Element-wise minimum of array elements.\n",
      "numpy.savetxt\n",
      "    Save an array to a text file.\n",
      "numpy.bartlett\n",
      "    Return the Bartlett window.\n",
      "numpy.bincount\n",
      "    Count number of occurrences of each value in array of non-negative ints.\n",
      "numpy.blackman\n",
      "    Return the Blackman window.\n",
      "numpy.can_cast\n",
      "    Returns True if cast between data types can occur according to the\n",
      "numpy.convolve\n",
      "    Returns the discrete, linear convolution of two one-dimensional sequences.\n",
      "numpy.maximum_sctype\n",
      "    Return the scalar type of highest precision of the same kind as the input.\n",
      "numpy.array_str\n",
      "    Return a string representation of the data in an array.\n",
      "numpy.histogram\n",
      "    Compute the histogram of a set of data.\n",
      "numpy.nanargmin\n",
      "    Return the indices of the minimum values in the specified axis ignoring\n",
      "numpy.array_repr\n",
      "    Return the string representation of an array.\n",
      "numpy.genfromtxt\n",
      "    Load data from a text file, with missing values handled as specified.\n",
      "numpy.obj2sctype\n",
      "    Return the scalar dtype or NumPy equivalent of Python type of an object.\n",
      "numpy.percentile\n",
      "    Compute the qth percentile of the data along the specified axis.\n",
      "numpy.histogram2d\n",
      "    Compute the bi-dimensional histogram of two data samples.\n",
      "numpy.histogramdd\n",
      "    Compute the multidimensional histogram of some data.\n",
      "numpy.ma.var\n",
      "    Compute the variance along the specified axis.\n",
      "numpy.mintypecode\n",
      "    Return the character for the minimum-size type to which given types can\n",
      "numpy.result_type\n",
      "    result_type(*arrays_and_dtypes)\n",
      "numpy.array2string\n",
      "    Return a string representation of an array.\n",
      "numpy.nanpercentile\n",
      "    Compute the qth percentile of the data along the specified axis,\n",
      "numpy.promote_types\n",
      "    Returns the data type with the smallest size and smallest scalar\n",
      "numpy.linalg.eig\n",
      "    Compute the eigenvalues and right eigenvectors of a square array.\n",
      "numpy.bytes0.split\n",
      "    Return a list of the sections in the bytes, using sep as the delimiter.\n",
      "numpy.linalg.cond\n",
      "    Compute the condition number of a matrix.\n",
      "numpy.linalg.norm\n",
      "    Matrix or vector norm.\n",
      "numpy.find_common_type\n",
      "    Determine common type following standard coercion rules.\n",
      "numpy.bytes0.rsplit\n",
      "    Return a list of the sections in the bytes, using sep as the delimiter.\n",
      "numpy.bytes0.replace\n",
      "    Return a copy with all occurrences of substring old replaced by new.\n",
      "numpy.chararray.astype\n",
      "    Copy of the array, cast to a specified type.\n",
      "numpy.ma.maximum_fill_value\n",
      "    Return the minimum value that can be represented by the dtype of an object.\n",
      "numpy.ma.set_fill_value\n",
      "    Set the filling value of a, if a is a masked array.\n",
      "numpy.linalg.matrix_rank\n",
      "    Return matrix rank of array using SVD method\n",
      "numpy.testing.assert_array_max_ulp\n",
      "    Check that all items of arrays differ in at most N Units in the Last Place.\n",
      "numpy.ma.MaskedArray.var\n",
      "    Compute the variance along the specified axis.\n",
      "numpy.testing.assert_allclose\n",
      "    Raises an AssertionError if two objects are not equal up to desired\n",
      "numpy.testing.assert_array_equal\n",
      "    Raises an AssertionError if two array_like objects are not equal.\n",
      "numpy.testing.assert_almost_equal\n",
      "    Raises an AssertionError if two items are not equal up to desired\n",
      "numpy.testing.assert_approx_equal\n",
      "    Raises an AssertionError if two items are not equal up to significant\n",
      "numpy.polynomial.Hermite._pow\n",
      "    Raise a Hermite series to a power.\n",
      "numpy.polynomial.HermiteE._pow\n",
      "    Raise a Hermite series to a power.\n",
      "numpy.polynomial.Laguerre._pow\n",
      "    Raise a Laguerre series to a power.\n",
      "numpy.polynomial.Legendre._pow\n",
      "    Raise a Legendre series to a power.\n",
      "numpy.polynomial.Chebyshev._pow\n",
      "    Raise a Chebyshev series to a power.\n",
      "numpy.polynomial.Polynomial._pow\n",
      "    Raise a polynomial to a power.\n",
      "numpy.testing.assert_array_almost_equal\n",
      "    Raises an AssertionError if two objects are not equal up to desired\n",
      "numpy.lib.arrayterator.Arrayterator\n",
      "    Buffered iterator for big arrays.\n",
      "numpy.lib.recfunctions.stack_arrays\n",
      "    Superposes arrays fields by fields\n",
      "numpy.polynomial.hermite.hermvander2d\n",
      "    Pseudo-Vandermonde matrix of given degrees.\n",
      "numpy.polynomial.hermite.hermvander3d\n",
      "    Pseudo-Vandermonde matrix of given degrees.\n",
      "numpy.polynomial.laguerre.lagvander2d\n",
      "    Pseudo-Vandermonde matrix of given degrees.\n",
      "numpy.polynomial.laguerre.lagvander3d\n",
      "    Pseudo-Vandermonde matrix of given degrees.\n",
      "numpy.polynomial.legendre.legvander2d\n",
      "    Pseudo-Vandermonde matrix of given degrees.\n",
      "numpy.polynomial.legendre.legvander3d\n",
      "    Pseudo-Vandermonde matrix of given degrees.\n",
      "numpy.polynomial._polybase.ABCPolyBase\n",
      "    An abstract base class for series classes.\n",
      "numpy.testing.assert_array_almost_equal_nulp\n",
      "    Compare two arrays relatively to their spacing.\n",
      "numpy.polynomial.chebyshev.chebvander2d\n",
      "    Pseudo-Vandermonde matrix of given degrees.\n",
      "numpy.polynomial.chebyshev.chebvander3d\n",
      "    Pseudo-Vandermonde matrix of given degrees.\n",
      "numpy.polynomial.hermite_e.hermevander2d\n",
      "    Pseudo-Vandermonde matrix of given degrees.\n",
      "numpy.polynomial.hermite_e.hermevander3d\n",
      "    Pseudo-Vandermonde matrix of given degrees.\n",
      "numpy.polynomial.polynomial.polyvander2d\n",
      "    Pseudo-Vandermonde matrix of given degrees.\n",
      "numpy.polynomial.polynomial.polyvander3d\n",
      "    Pseudo-Vandermonde matrix of given degrees."
     ]
    }
   ],
   "source": [
    "np.lookfor(\"max\")"
   ]
  },
  {
   "cell_type": "code",
   "execution_count": 3,
   "metadata": {
    "collapsed": true
   },
   "outputs": [],
   "source": [
    "np.ar*?"
   ]
  },
  {
   "cell_type": "markdown",
   "metadata": {},
   "source": [
    "## Array\n",
    "\n",
    "Array merupakan tipe data dasar yang sering dibutuhkan dalam proses komputasi.  Hampir semua data direpresentasikan dengan array dan operasi dilakukan pada tipe data ini.\n",
    "\n",
    "### Pembuatan dan Pengaksesan tipe data Array\n",
    "\n",
    "**Array** dapat dibuat dengan cara manual dan menggunakan fungs secara manuali yang telah disediakan numPy.\n",
    "\n",
    "Untuk membuat array secara manual dengan menggunakan numPy sama halnya ketika inisialisasi variabel **List**.\n",
    "Berikut syntax pembuatan array 1D "
   ]
  },
  {
   "cell_type": "code",
   "execution_count": 4,
   "metadata": {
    "collapsed": false
   },
   "outputs": [],
   "source": [
    "arr1D=np.array([10, 30, 8, 7])"
   ]
  },
  {
   "cell_type": "code",
   "execution_count": 5,
   "metadata": {
    "collapsed": false
   },
   "outputs": [
    {
     "name": "stdout",
     "output_type": "stream",
     "text": [
      "[10 30  8  7]\n"
     ]
    }
   ],
   "source": [
    "print (arr1D)"
   ]
  },
  {
   "cell_type": "markdown",
   "metadata": {},
   "source": [
    "*arrData* tersebut merupakan variable yang bertipe array 1D.  *arrData* tersebut memiliki 4 elemen atau anggota. \n",
    "Seperti halnya dengan tipe data list, maka library numPy dengan tipe data Array juga menyediakan index untuk mengakses elemen yang terdapat pada array tersebut.  Index dimulai dari nol. "
   ]
  },
  {
   "cell_type": "code",
   "execution_count": 6,
   "metadata": {
    "collapsed": false
   },
   "outputs": [
    {
     "name": "stdout",
     "output_type": "stream",
     "text": [
      "10\n",
      "[30  8]\n"
     ]
    }
   ],
   "source": [
    "print(arr1D[0])\n",
    "print(arr1D[1:3])"
   ]
  },
  {
   "cell_type": "markdown",
   "metadata": {},
   "source": [
    "Anggota dari tipe data array ini bersifat **mutable**, yaitu dapat dirubah, seperti contoh berikut"
   ]
  },
  {
   "cell_type": "code",
   "execution_count": 7,
   "metadata": {
    "collapsed": false
   },
   "outputs": [
    {
     "data": {
      "text/plain": [
       "7"
      ]
     },
     "execution_count": 7,
     "metadata": {},
     "output_type": "execute_result"
    }
   ],
   "source": [
    "arr1D[3]"
   ]
  },
  {
   "cell_type": "code",
   "execution_count": 8,
   "metadata": {
    "collapsed": false
   },
   "outputs": [
    {
     "name": "stdout",
     "output_type": "stream",
     "text": [
      "[10 30  8  2]\n"
     ]
    }
   ],
   "source": [
    "arr1D[3]=2\n",
    "print(arr1D)"
   ]
  },
  {
   "cell_type": "code",
   "execution_count": 9,
   "metadata": {
    "collapsed": false
   },
   "outputs": [],
   "source": [
    "arr1D=np.array([10,100,8,7])"
   ]
  },
  {
   "cell_type": "markdown",
   "metadata": {},
   "source": [
    "Untuk membuat array 2D :"
   ]
  },
  {
   "cell_type": "code",
   "execution_count": 11,
   "metadata": {
    "collapsed": false
   },
   "outputs": [],
   "source": [
    "arr2D=np.array([[1,2,3,11],[4,5,6,12],[7,8,9,13]])"
   ]
  },
  {
   "cell_type": "markdown",
   "metadata": {},
   "source": [
    "Untuk mengakses array 2D, dapat dilihat sebagai berikut :"
   ]
  },
  {
   "cell_type": "code",
   "execution_count": 12,
   "metadata": {
    "collapsed": false
   },
   "outputs": [
    {
     "data": {
      "text/plain": [
       "array([[ 1,  2,  3, 11],\n",
       "       [ 4,  5,  6, 12],\n",
       "       [ 7,  8,  9, 13]])"
      ]
     },
     "execution_count": 12,
     "metadata": {},
     "output_type": "execute_result"
    }
   ],
   "source": [
    "arr2D"
   ]
  },
  {
   "cell_type": "code",
   "execution_count": 13,
   "metadata": {
    "collapsed": false
   },
   "outputs": [
    {
     "name": "stdout",
     "output_type": "stream",
     "text": [
      "3\n",
      "[7 8 9]\n"
     ]
    }
   ],
   "source": [
    "temp=arr2D[0,2]\n",
    "print(temp)\n",
    "print(arr2D[2,0:3])"
   ]
  },
  {
   "cell_type": "code",
   "execution_count": 14,
   "metadata": {
    "collapsed": false
   },
   "outputs": [
    {
     "data": {
      "text/plain": [
       "array([3, 6, 9])"
      ]
     },
     "execution_count": 14,
     "metadata": {},
     "output_type": "execute_result"
    }
   ],
   "source": [
    "arr2D[:,2]"
   ]
  },
  {
   "cell_type": "code",
   "execution_count": 15,
   "metadata": {
    "collapsed": false
   },
   "outputs": [
    {
     "data": {
      "text/plain": [
       "array([ 4,  5,  6, 12])"
      ]
     },
     "execution_count": 15,
     "metadata": {},
     "output_type": "execute_result"
    }
   ],
   "source": [
    "temp=arr2D[1,:]\n",
    "temp"
   ]
  },
  {
   "cell_type": "markdown",
   "metadata": {},
   "source": [
    "Terdapat beberapa method yang disediakan tipe data array ini, seperti ukuran array (*shape*), jumlah dimensi (*ndim*), panjang dari array (*len*), rata-rata dari seluruh elemen (*mean*), nilai maksimal dari array (*max*), dan lain-lain"
   ]
  },
  {
   "cell_type": "code",
   "execution_count": 16,
   "metadata": {
    "collapsed": false
   },
   "outputs": [
    {
     "data": {
      "text/plain": [
       "4"
      ]
     },
     "execution_count": 16,
     "metadata": {},
     "output_type": "execute_result"
    }
   ],
   "source": [
    "len(arr1D)"
   ]
  },
  {
   "cell_type": "code",
   "execution_count": 17,
   "metadata": {
    "collapsed": false
   },
   "outputs": [
    {
     "data": {
      "text/plain": [
       "3"
      ]
     },
     "execution_count": 17,
     "metadata": {},
     "output_type": "execute_result"
    }
   ],
   "source": [
    "len(arr2D)"
   ]
  },
  {
   "cell_type": "code",
   "execution_count": 18,
   "metadata": {
    "collapsed": false
   },
   "outputs": [
    {
     "data": {
      "text/plain": [
       "4"
      ]
     },
     "execution_count": 18,
     "metadata": {},
     "output_type": "execute_result"
    }
   ],
   "source": [
    "len(arr2D[0])"
   ]
  },
  {
   "cell_type": "code",
   "execution_count": null,
   "metadata": {
    "collapsed": false
   },
   "outputs": [],
   "source": [
    "arr1D.ndim"
   ]
  },
  {
   "cell_type": "code",
   "execution_count": 19,
   "metadata": {
    "collapsed": false
   },
   "outputs": [
    {
     "data": {
      "text/plain": [
       "2"
      ]
     },
     "execution_count": 19,
     "metadata": {},
     "output_type": "execute_result"
    }
   ],
   "source": [
    "arr2D.ndim"
   ]
  },
  {
   "cell_type": "code",
   "execution_count": 20,
   "metadata": {
    "collapsed": false
   },
   "outputs": [
    {
     "name": "stdout",
     "output_type": "stream",
     "text": [
      "(4,)\n"
     ]
    }
   ],
   "source": [
    "a=arr1D.shape\n",
    "print(a)"
   ]
  },
  {
   "cell_type": "code",
   "execution_count": 21,
   "metadata": {
    "collapsed": false
   },
   "outputs": [
    {
     "name": "stdout",
     "output_type": "stream",
     "text": [
      "(3, 4)\n"
     ]
    }
   ],
   "source": [
    "a=arr2D.shape\n",
    "print(a)"
   ]
  },
  {
   "cell_type": "code",
   "execution_count": 23,
   "metadata": {
    "collapsed": false
   },
   "outputs": [
    {
     "data": {
      "text/plain": [
       "100"
      ]
     },
     "execution_count": 23,
     "metadata": {},
     "output_type": "execute_result"
    }
   ],
   "source": [
    "arr1D.max()"
   ]
  },
  {
   "cell_type": "code",
   "execution_count": 22,
   "metadata": {
    "collapsed": false
   },
   "outputs": [
    {
     "data": {
      "text/plain": [
       "13"
      ]
     },
     "execution_count": 22,
     "metadata": {},
     "output_type": "execute_result"
    }
   ],
   "source": [
    "arr2D.max()"
   ]
  },
  {
   "cell_type": "code",
   "execution_count": 24,
   "metadata": {
    "collapsed": false
   },
   "outputs": [],
   "source": [
    "a=arr1D.size\n",
    "b=arr2D.size"
   ]
  },
  {
   "cell_type": "code",
   "execution_count": 25,
   "metadata": {
    "collapsed": false
   },
   "outputs": [
    {
     "name": "stdout",
     "output_type": "stream",
     "text": [
      "4 12\n"
     ]
    }
   ],
   "source": [
    "print (a,b)"
   ]
  },
  {
   "cell_type": "markdown",
   "metadata": {},
   "source": [
    "Selain dengan cara manual, array juga dapat dibuat dengan cara memanggil fungsi yang disediakan oleh library numPy.  Terdapat beberapa fungsi yang dapat membangkitkan data numerik, seperti :\n",
    "- ones, yaitu fungsi untuk membangkitkan suatu matrik dengan ukuran *m* x *n*, dan semua elemen bernilai '1'\n",
    "- zeros, yaitu fungsi yang membangkitan suatu matrik dengan ukuran *m* x *n*, dan semua elemen bernilai '0'\n",
    "- eye, yaitu fungsi yang membangkitkan matrik identitas dengan ukuran *n* x *n*\n",
    "- rand, yaitu fungsi yang membangkitan matrik dengan elemen yang bernilai acak antara 0 s.d 1 dan berukuran *m* x *n*,\n",
    "- dll"
   ]
  },
  {
   "cell_type": "code",
   "execution_count": 32,
   "metadata": {
    "collapsed": false
   },
   "outputs": [],
   "source": [
    "arrOne=np.ones((4,3))\n",
    "arrZeros=np.zeros((2,4))\n",
    "arrEye=np.eye(3)\n",
    "arrRand=np.random.rand(3,1)\n",
    "arrLinSpace=np.linspace(0,1,10)"
   ]
  },
  {
   "cell_type": "code",
   "execution_count": 27,
   "metadata": {
    "collapsed": false
   },
   "outputs": [
    {
     "data": {
      "text/plain": [
       "array([[ 1.,  1.,  1.],\n",
       "       [ 1.,  1.,  1.],\n",
       "       [ 1.,  1.,  1.],\n",
       "       [ 1.,  1.,  1.]])"
      ]
     },
     "execution_count": 27,
     "metadata": {},
     "output_type": "execute_result"
    }
   ],
   "source": [
    "arrOne"
   ]
  },
  {
   "cell_type": "code",
   "execution_count": 28,
   "metadata": {
    "collapsed": false
   },
   "outputs": [
    {
     "data": {
      "text/plain": [
       "array([[ 0.,  0.,  0.,  0.],\n",
       "       [ 0.,  0.,  0.,  0.]])"
      ]
     },
     "execution_count": 28,
     "metadata": {},
     "output_type": "execute_result"
    }
   ],
   "source": [
    "arrZeros"
   ]
  },
  {
   "cell_type": "code",
   "execution_count": 29,
   "metadata": {
    "collapsed": false
   },
   "outputs": [
    {
     "data": {
      "text/plain": [
       "array([[ 1.,  0.,  0.],\n",
       "       [ 0.,  1.,  0.],\n",
       "       [ 0.,  0.,  1.]])"
      ]
     },
     "execution_count": 29,
     "metadata": {},
     "output_type": "execute_result"
    }
   ],
   "source": [
    "arrEye"
   ]
  },
  {
   "cell_type": "code",
   "execution_count": 30,
   "metadata": {
    "collapsed": false
   },
   "outputs": [
    {
     "data": {
      "text/plain": [
       "array([[ 0.92049488],\n",
       "       [ 0.22928133],\n",
       "       [ 0.90159567]])"
      ]
     },
     "execution_count": 30,
     "metadata": {},
     "output_type": "execute_result"
    }
   ],
   "source": [
    "arrRand"
   ]
  },
  {
   "cell_type": "code",
   "execution_count": 33,
   "metadata": {
    "collapsed": false
   },
   "outputs": [
    {
     "data": {
      "text/plain": [
       "array([ 0.        ,  0.11111111,  0.22222222,  0.33333333,  0.44444444,\n",
       "        0.55555556,  0.66666667,  0.77777778,  0.88888889,  1.        ])"
      ]
     },
     "execution_count": 33,
     "metadata": {},
     "output_type": "execute_result"
    }
   ],
   "source": [
    "arrLinSpace"
   ]
  },
  {
   "cell_type": "markdown",
   "metadata": {},
   "source": [
    "### Operasi komputasi pada Array\n",
    "\n",
    "Terdapat beberapa operasi dasar komputasi pada Array :\n",
    "- Operasi *Elementwise* \n",
    "- Operasi *Arraywise*\n",
    "- dll\n",
    "\n",
    "#### Operasi *Elementwise*\n",
    "Pada operasi elementwise ini, elemen atau anggota array diperlakukan secara independen, tidak tergantung pada anggota array yang lain.  Beberapa contoh operasi *Elementwise* ini antara lain:"
   ]
  },
  {
   "cell_type": "markdown",
   "metadata": {},
   "source": [
    "##### Operasi Matematika dengan Skalar\n",
    "Terdapat beberapa operasi Array dengan skalar, antara lain:\n",
    "- Penjumlahan atau pengurangan\n",
    "- Perkalian atau pembagian"
   ]
  },
  {
   "cell_type": "code",
   "execution_count": 34,
   "metadata": {
    "collapsed": false
   },
   "outputs": [
    {
     "name": "stdout",
     "output_type": "stream",
     "text": [
      "a= [4 3 2]\n",
      "b= [5 4 3]\n",
      "c= [6 7 8]\n",
      "d= [8 6 4]\n"
     ]
    }
   ],
   "source": [
    "a=np.array([4,3,2])\n",
    "b=a+1\n",
    "c=10-a\n",
    "d=a*2\n",
    "print('a=',a)\n",
    "print('b=',b)\n",
    "print('c=',c)\n",
    "print('d=',d)"
   ]
  },
  {
   "cell_type": "code",
   "execution_count": 35,
   "metadata": {
    "collapsed": false
   },
   "outputs": [
    {
     "name": "stdout",
     "output_type": "stream",
     "text": [
      "[8 6 4]\n"
     ]
    }
   ],
   "source": [
    "b=a*2\n",
    "print(b)"
   ]
  },
  {
   "cell_type": "code",
   "execution_count": 36,
   "metadata": {
    "collapsed": false
   },
   "outputs": [
    {
     "name": "stdout",
     "output_type": "stream",
     "text": [
      "[ 2.   1.5  1. ]\n"
     ]
    }
   ],
   "source": [
    "print(a/2)"
   ]
  },
  {
   "cell_type": "markdown",
   "metadata": {},
   "source": [
    "##### Operasi Matematika antara Array\n",
    "Operasi *elementwise* juga dapat dilakukan antara beberapa array ataupun matrik, hanya saja setiap elemen pada matrik bersifat independent, hasil operasi tidak dipengaruhi oleh elemen lain dari array.\n",
    "Contoh operasi ini juga dapat dilakukan pada :\n",
    "- Penjumlahan atau pengurangan\n",
    "- Perkalian atau pembagian"
   ]
  },
  {
   "cell_type": "code",
   "execution_count": 37,
   "metadata": {
    "collapsed": false
   },
   "outputs": [
    {
     "name": "stdout",
     "output_type": "stream",
     "text": [
      "a= [4 3 2]  ; b= [ 2.   6.   0.5] \n",
      "a+b= [ 6.   9.   2.5] ; a-b= [ 2.  -3.   1.5]\n",
      "a*b= [  8.  18.   1.] ; a/b= [ 2.   0.5  4. ]\n"
     ]
    }
   ],
   "source": [
    "a=np.array([4,3,2])\n",
    "b=np.array([2,6,0.5])\n",
    "c=a+b\n",
    "d=a-b\n",
    "e=a*b\n",
    "f=a/b\n",
    "print('a=',a,' ; b=',b, '\\na+b=',c, '; a-b=', d)\n",
    "print('a*b=',e, '; a/b=', f)\n"
   ]
  },
  {
   "cell_type": "markdown",
   "metadata": {},
   "source": [
    "#### Operasi Arraywise\n",
    "\n",
    "Pada operasi *arraywise* ini, elemen bersifat dependent, operasi tidak dilakukan antara elemen pada suatu array, tapi membutuhkan nilai dari elemen yang lain.  Contoh operasi ini adalah operasi perkalian"
   ]
  },
  {
   "cell_type": "code",
   "execution_count": 38,
   "metadata": {
    "collapsed": false
   },
   "outputs": [],
   "source": [
    "a=np.array([4,3])\n",
    "b=np.array([[2,6,0.5],[1,3,4]])\n",
    "c=a.dot(b)"
   ]
  },
  {
   "cell_type": "code",
   "execution_count": 39,
   "metadata": {
    "collapsed": false
   },
   "outputs": [
    {
     "name": "stdout",
     "output_type": "stream",
     "text": [
      "a= [4 3]  ; \n",
      "b= [[ 2.   6.   0.5]\n",
      " [ 1.   3.   4. ]] \n",
      "a*b= [ 11.  33.  14.]\n"
     ]
    }
   ],
   "source": [
    "print('a=',a,' ; \\nb=',b, '\\na*b=',c)"
   ]
  },
  {
   "cell_type": "code",
   "execution_count": null,
   "metadata": {
    "collapsed": false
   },
   "outputs": [],
   "source": [
    "a*b"
   ]
  },
  {
   "cell_type": "markdown",
   "metadata": {},
   "source": [
    "Selain *elementwise* ataupun *arraywise*, banyak operasi komputasi atau matematika pada tipe data array ini, seperti sum, transpose, man, mix, dll"
   ]
  },
  {
   "cell_type": "markdown",
   "metadata": {},
   "source": [
    "## Grafik dan Citra\n",
    "\n",
    "Grafik maupun citra merupakan hal yang sangat penting dalam proses komputasi.  Grafik dapat mempermudah pengguna untuk memahami proses yang berlangsung, begitu juga dengan citra, bahkan citra juga merupakan salah satu input yang harus diproses dalam proses komputasi.\n",
    "Untuk keperluan tersebut, numPy menyediakan fasilitas untuk membuat serta menampilkan grafik maupun citra.  \n",
    "\n",
    "Fungsi-fungsi yang diperlukan untuk menampilkan grafik ataupun citra terdapat library **matplotlib**, oleh karena itu hal pertama yang harus dilakukan adalah import library ini terlebih dahulu\n"
   ]
  },
  {
   "cell_type": "code",
   "execution_count": 40,
   "metadata": {
    "collapsed": true
   },
   "outputs": [],
   "source": [
    "import matplotlib.pyplot as matPlot\n",
    "from skimage import data, img_as_float"
   ]
  },
  {
   "cell_type": "markdown",
   "metadata": {},
   "source": [
    "Berikut contoh untuk menampilkan grafik dari persamaan :\n",
    "\\begin{align}\n",
    "y & = 2x + 3 \n",
    "\\end{align}\n",
    "\n",
    "Tahapan yang harus dilakukan untuk menampilkan grafik sesuai persamaan diatas adalah :\n",
    "- Membangkitkan data *x* (asumsi, *x* nilai 0 s.d 1, gunakan fungsi *linspace*)\n",
    "- Hitung nilai *y*, berdasarkan nilai *x* yang ada dan persamaan diatas\n",
    "- Plot pasangan nilai *x* dan *y*, dengan menggunakan library matplotlib"
   ]
  },
  {
   "cell_type": "code",
   "execution_count": 41,
   "metadata": {
    "collapsed": false
   },
   "outputs": [],
   "source": [
    "x=np.linspace(0,1,20) \n",
    "y=2*x+3"
   ]
  },
  {
   "cell_type": "code",
   "execution_count": 42,
   "metadata": {
    "collapsed": true
   },
   "outputs": [],
   "source": [
    "%matplotlib inline"
   ]
  },
  {
   "cell_type": "code",
   "execution_count": 43,
   "metadata": {
    "collapsed": false
   },
   "outputs": [
    {
     "data": {
      "text/plain": [
       "[<matplotlib.lines.Line2D at 0x7299147080>]"
      ]
     },
     "execution_count": 43,
     "metadata": {},
     "output_type": "execute_result"
    },
    {
     "data": {
      "image/png": "[encoded data removed]",
      "text/plain": [
       "<matplotlib.figure.Figure at 0x7298fb0f28>"
      ]
     },
     "metadata": {},
     "output_type": "display_data"
    }
   ],
   "source": [
    "matPlot.plot(x,y)"
   ]
  },
  {
   "cell_type": "code",
   "execution_count": 44,
   "metadata": {
    "collapsed": false
   },
   "outputs": [
    {
     "data": {
      "text/plain": [
       "[<matplotlib.lines.Line2D at 0x7298faaac8>]"
      ]
     },
     "execution_count": 44,
     "metadata": {},
     "output_type": "execute_result"
    },
    {
     "data": {
      "image/png": "[encoded data removed]",
      "text/plain": [
       "<matplotlib.figure.Figure at 0x7298df0b00>"
      ]
     },
     "metadata": {},
     "output_type": "display_data"
    }
   ],
   "source": [
    "matPlot.plot(x,y,'o')"
   ]
  },
  {
   "cell_type": "code",
   "execution_count": 45,
   "metadata": {
    "collapsed": false
   },
   "outputs": [
    {
     "data": {
      "text/plain": [
       "<matplotlib.image.AxesImage at 0x7299357588>"
      ]
     },
     "execution_count": 45,
     "metadata": {},
     "output_type": "execute_result"
    },
    {
     "data": {
      "image/png": "[encoded data removed]",
      "text/plain": [
       "<matplotlib.figure.Figure at 0x729906afd0>"
      ]
     },
     "metadata": {},
     "output_type": "display_data"
    }
   ],
   "source": [
    "img=matPlot.imread('./images/house2.tif')\n",
    "\n",
    "matPlot.imshow(img)"
   ]
  },
  {
   "cell_type": "code",
   "execution_count": 47,
   "metadata": {
    "collapsed": false
   },
   "outputs": [
    {
     "data": {
      "text/plain": [
       "(256, 256, 4)"
      ]
     },
     "execution_count": 47,
     "metadata": {},
     "output_type": "execute_result"
    }
   ],
   "source": [
    "img.shape"
   ]
  },
  {
   "cell_type": "code",
   "execution_count": 49,
   "metadata": {
    "collapsed": false,
    "scrolled": true
   },
   "outputs": [
    {
     "name": "stdout",
     "output_type": "stream",
     "text": [
      "[[202 202 202 ..., 202 202 202]\n",
      " [204 204 204 ..., 204 204 204]\n",
      " [205 205 205 ..., 205 205 205]\n",
      " ..., \n",
      " [205 205 204 ...,  50 109 177]\n",
      " [203 204 204 ...,  51 101 164]\n",
      " [191 203 205 ...,  64 104 165]]\n"
     ]
    }
   ],
   "source": [
    "data=img[:,:,2]\n",
    "print(data)"
   ]
  },
  {
   "cell_type": "code",
   "execution_count": null,
   "metadata": {
    "collapsed": false
   },
   "outputs": [],
   "source": [
    "data1=img[:,:,0]\n",
    "print(data1)"
   ]
  },
  {
   "cell_type": "code",
   "execution_count": 50,
   "metadata": {
    "collapsed": false
   },
   "outputs": [
    {
     "data": {
      "text/plain": [
       "([array([   0.,    2.,    1.,    5.,    7.,    6.,    1.,   11.,  223.,    0.]),\n",
       "  array([   0.,    2.,    1.,    8.,    5.,    4.,    2.,    9.,  225.,    0.]),\n",
       "  array([   0.,    2.,    2.,    7.,    6.,    3.,    3.,    4.,  229.,    0.]),\n",
       "  array([   0.,    2.,    2.,    7.,    6.,    3.,    4.,    5.,  227.,    0.]),\n",
       "  array([   1.,    1.,    1.,    9.,    6.,    4.,    3.,    2.,  229.,    0.]),\n",
       "  array([   2.,    0.,    4.,    6.,    7.,    3.,    4.,    4.,  226.,    0.]),\n",
       "  array([   2.,    0.,    7.,    4.,    6.,    3.,    3.,    7.,  224.,    0.]),\n",
       "  array([   2.,    0.,    6.,    5.,    6.,    4.,    2.,    8.,  223.,    0.]),\n",
       "  array([   2.,    1.,    3.,    7.,    7.,    4.,    2.,    8.,  222.,    0.]),\n",
       "  array([   2.,    2.,    2.,   10.,    3.,    4.,    3.,    9.,  221.,    0.]),\n",
       "  array([   2.,    2.,    1.,   10.,    4.,    5.,    2.,   10.,  220.,    0.]),\n",
       "  array([   2.,    2.,    3.,    8.,    6.,    3.,    3.,   12.,  217.,    0.]),\n",
       "  array([   2.,    2.,    5.,    6.,    6.,    3.,    4.,   11.,  217.,    0.]),\n",
       "  array([   2.,    2.,    4.,    6.,    8.,    4.,    2.,   11.,  217.,    0.]),\n",
       "  array([   3.,    1.,    6.,    5.,    8.,    3.,    1.,   10.,  219.,    0.]),\n",
       "  array([   4.,    1.,    5.,    6.,    8.,    2.,    3.,    9.,  216.,    2.]),\n",
       "  array([   3.,    2.,    3.,    9.,    6.,    4.,    5.,   10.,  212.,    2.]),\n",
       "  array([   4.,    1.,    4.,   10.,    5.,    5.,    3.,   12.,  210.,    2.]),\n",
       "  array([   4.,    1.,    4.,   10.,    5.,    5.,    3.,   10.,  210.,    4.]),\n",
       "  array([   4.,    1.,    4.,   11.,    4.,    5.,    4.,   13.,  204.,    6.]),\n",
       "  array([   4.,    2.,    3.,   12.,    3.,    6.,    6.,    9.,  205.,    6.]),\n",
       "  array([   5.,    1.,    3.,   10.,    4.,    8.,    3.,    8.,  207.,    7.]),\n",
       "  array([   5.,    1.,    4.,   10.,    5.,    7.,    3.,    9.,  203.,    9.]),\n",
       "  array([   5.,    1.,    5.,    9.,    6.,    4.,    5.,    8.,  203.,   10.]),\n",
       "  array([   5.,    1.,    6.,    8.,    5.,    5.,    4.,   12.,  199.,   11.]),\n",
       "  array([   6.,    1.,    8.,    5.,    6.,    2.,    5.,   13.,  197.,   13.]),\n",
       "  array([   6.,    1.,    7.,    7.,    4.,    4.,    4.,   11.,  195.,   17.]),\n",
       "  array([   6.,    1.,    7.,    7.,    3.,    6.,    4.,   13.,  191.,   18.]),\n",
       "  array([   6.,    2.,    6.,    5.,    6.,    4.,    5.,   11.,  197.,   14.]),\n",
       "  array([   6.,    3.,    5.,    4.,    5.,    8.,    8.,   18.,  186.,   13.]),\n",
       "  array([   5.,    4.,    5.,    6.,    3.,   10.,    6.,   19.,  185.,   13.]),\n",
       "  array([   0.,    2.,   10.,    9.,    6.,   13.,   10.,   27.,  175.,    4.]),\n",
       "  array([   0.,    0.,    4.,   21.,   16.,   12.,   18.,   35.,  145.,    5.]),\n",
       "  array([   0.,    3.,    2.,   28.,   27.,   18.,   20.,   34.,  120.,    4.]),\n",
       "  array([   0.,    3.,    3.,   43.,   40.,   26.,   14.,    7.,  116.,    4.]),\n",
       "  array([   0.,    5.,    3.,   61.,   50.,    6.,    8.,    3.,  117.,    3.]),\n",
       "  array([   0.,    3.,    8.,   44.,   65.,    6.,    6.,    6.,  114.,    4.]),\n",
       "  array([   0.,    1.,    7.,   31.,   81.,    9.,    5.,    5.,  113.,    4.]),\n",
       "  array([   0.,    0.,   16.,   39.,   70.,    6.,    4.,    5.,  112.,    4.]),\n",
       "  array([   0.,    7.,   17.,   36.,   70.,    5.,    2.,    5.,  110.,    4.]),\n",
       "  array([   0.,    5.,   17.,   42.,   70.,    2.,    2.,    6.,  108.,    4.]),\n",
       "  array([   0.,    6.,   15.,   28.,   87.,    1.,    2.,    5.,  107.,    5.]),\n",
       "  array([   0.,    6.,   15.,   19.,   97.,    2.,    2.,    6.,  105.,    4.]),\n",
       "  array([   1.,    6.,   12.,   25.,   94.,    2.,    1.,    5.,  106.,    4.]),\n",
       "  array([   1.,    5.,   15.,   20.,   98.,    2.,    2.,    5.,  104.,    4.]),\n",
       "  array([   0.,    7.,   13.,   22.,   98.,    2.,    2.,    4.,  104.,    4.]),\n",
       "  array([   0.,    8.,   10.,   25.,   98.,    3.,    0.,    4.,  104.,    4.]),\n",
       "  array([   0.,   10.,    9.,   18.,  105.,    3.,    0.,    5.,  101.,    5.]),\n",
       "  array([   0.,   10.,    7.,   24.,  102.,    2.,    2.,    5.,   99.,    5.]),\n",
       "  array([   1.,    7.,   11.,   25.,  101.,    1.,    2.,    6.,   97.,    5.]),\n",
       "  array([  0.,   9.,  11.,  32.,  94.,   2.,   1.,   6.,  96.,   5.]),\n",
       "  array([   0.,    7.,   15.,   20.,  105.,    2.,    2.,    5.,   97.,    3.]),\n",
       "  array([   1.,    5.,   16.,   22.,  101.,    5.,    2.,    3.,   96.,    5.]),\n",
       "  array([  0.,   9.,  14.,  27.,  95.,   3.,   4.,   6.,  93.,   5.]),\n",
       "  array([  0.,   9.,  14.,  42.,  81.,   4.,   1.,   6.,  95.,   4.]),\n",
       "  array([  1.,   6.,  20.,  30.,  85.,   7.,   4.,   6.,  92.,   5.]),\n",
       "  array([  0.,   9.,  19.,  20.,  74.,   6.,  14.,  15.,  95.,   4.]),\n",
       "  array([  0.,  10.,  18.,  21.,  73.,   3.,   3.,   9.,  97.,  22.]),\n",
       "  array([  0.,  10.,  16.,  20.,  76.,   4.,   5.,  12.,  88.,  25.]),\n",
       "  array([  0.,  11.,  16.,  17.,  80.,  11.,   5.,  14.,  98.,   4.]),\n",
       "  array([  0.,  12.,  14.,  20.,  92.,   6.,   7.,  15.,  86.,   4.]),\n",
       "  array([  0.,  13.,  14.,  27.,  94.,  10.,   3.,   9.,  82.,   4.]),\n",
       "  array([  0.,  10.,  16.,  39.,  93.,   3.,   2.,   7.,  82.,   4.]),\n",
       "  array([   0.,    0.,   17.,   40.,  103.,    3.,    1.,    6.,   81.,    5.]),\n",
       "  array([   0.,    0.,    1.,   38.,  124.,    1.,    4.,   37.,   51.,    0.]),\n",
       "  array([   0.,    0.,    0.,   22.,  152.,   15.,   19.,   21.,   27.,    0.]),\n",
       "  array([   0.,    0.,    0.,   55.,  155.,   15.,    1.,    2.,   28.,    0.]),\n",
       "  array([   0.,    0.,    2.,   76.,  147.,    1.,    0.,    3.,   27.,    0.]),\n",
       "  array([   0.,    0.,    2.,   70.,  153.,    1.,    0.,    2.,   28.,    0.]),\n",
       "  array([   0.,    0.,    2.,   67.,  157.,    0.,    1.,    2.,   27.,    0.]),\n",
       "  array([   0.,    0.,    2.,   53.,  171.,    0.,    1.,    3.,   26.,    0.]),\n",
       "  array([   0.,    0.,    1.,   55.,  170.,    1.,    0.,    3.,   26.,    0.]),\n",
       "  array([   0.,    0.,    1.,   46.,  180.,    0.,    1.,    3.,   25.,    0.]),\n",
       "  array([   0.,    0.,    1.,   45.,  180.,    2.,    0.,    2.,   26.,    0.]),\n",
       "  array([   0.,    0.,    1.,   32.,  194.,    1.,    0.,    3.,   25.,    0.]),\n",
       "  array([   0.,    0.,    1.,   37.,  190.,    0.,    1.,    4.,   23.,    0.]),\n",
       "  array([   0.,    0.,    1.,   32.,  194.,    2.,    0.,    3.,   24.,    0.]),\n",
       "  array([   0.,    0.,    1.,   40.,  187.,    1.,    0.,    2.,   25.,    0.]),\n",
       "  array([   0.,    0.,    1.,   34.,  194.,    0.,    1.,    3.,   23.,    0.]),\n",
       "  array([   0.,    0.,    2.,   31.,  196.,    1.,    0.,    3.,   23.,    0.]),\n",
       "  array([   0.,    0.,    2.,   32.,  196.,    0.,    1.,    3.,   22.,    0.]),\n",
       "  array([   0.,    0.,    2.,   41.,  187.,    0.,    1.,    3.,   22.,    0.]),\n",
       "  array([   0.,    0.,    1.,   42.,  187.,    1.,    0.,    3.,   22.,    0.]),\n",
       "  array([   0.,    0.,    1.,   46.,  184.,    0.,    0.,    4.,   21.,    0.]),\n",
       "  array([   0.,    0.,    0.,   41.,  190.,    0.,    1.,    4.,   20.,    0.]),\n",
       "  array([   0.,    0.,    0.,   58.,  173.,    1.,    0.,    3.,   21.,    0.]),\n",
       "  array([   0.,    0.,    0.,   49.,  183.,    0.,    1.,    3.,   20.,    0.]),\n",
       "  array([   0.,    0.,    0.,   55.,  177.,    0.,    1.,    4.,   19.,    0.]),\n",
       "  array([   0.,    0.,    0.,   61.,  170.,    2.,    0.,    4.,   19.,    0.]),\n",
       "  array([   0.,    0.,    0.,   63.,  165.,    5.,    0.,    4.,   19.,    0.]),\n",
       "  array([   0.,    0.,    1.,   70.,  159.,    3.,    1.,    3.,   19.,    0.]),\n",
       "  array([   0.,    0.,    1.,   61.,  164.,    8.,    0.,    3.,   19.,    0.]),\n",
       "  array([   0.,    0.,    0.,   48.,  180.,    6.,    0.,    3.,   19.,    0.]),\n",
       "  array([   0.,    0.,    0.,   45.,  184.,    5.,    0.,    3.,   19.,    0.]),\n",
       "  array([   0.,    0.,    0.,   53.,  177.,    3.,    1.,    3.,   19.,    0.]),\n",
       "  array([   0.,    0.,    0.,   57.,  171.,    5.,    1.,    6.,   16.,    0.]),\n",
       "  array([   0.,    0.,    0.,   53.,  180.,    0.,    1.,    4.,   18.,    0.]),\n",
       "  array([   0.,    0.,    0.,   88.,  140.,    5.,    0.,    3.,   20.,    0.]),\n",
       "  array([   0.,    0.,    0.,   83.,  136.,   12.,    2.,    3.,   20.,    0.]),\n",
       "  array([   0.,    0.,    1.,   75.,  145.,    4.,    2.,    7.,   22.,    0.]),\n",
       "  array([   0.,    2.,    2.,   89.,  124.,    7.,    3.,    3.,   22.,    4.]),\n",
       "  array([   1.,    3.,    4.,   77.,  134.,    6.,    1.,    4.,   22.,    4.]),\n",
       "  array([   3.,    4.,    4.,   67.,  140.,    6.,    3.,    4.,   22.,    3.]),\n",
       "  array([   3.,    8.,    3.,   52.,  147.,   12.,    0.,    3.,   25.,    3.]),\n",
       "  array([   6.,    7.,    5.,   44.,  151.,   10.,    2.,    5.,   22.,    4.]),\n",
       "  array([   4.,   12.,    5.,   55.,  134.,   14.,    1.,    4.,   23.,    4.]),\n",
       "  array([   6.,   11.,    8.,   55.,  135.,    8.,    2.,    3.,   23.,    5.]),\n",
       "  array([   3.,   14.,    7.,   67.,  129.,    4.,    0.,    3.,   25.,    4.]),\n",
       "  array([   0.,    6.,   16.,   72.,  128.,    2.,    0.,    4.,   23.,    5.]),\n",
       "  array([   0.,    4.,   17.,   78.,  120.,    3.,    2.,    4.,   22.,    6.]),\n",
       "  array([   0.,    3.,   23.,   72.,  119.,    1.,    3.,    5.,   26.,    4.]),\n",
       "  array([   0.,    3.,   20.,   56.,  131.,    7.,    3.,    4.,   27.,    5.]),\n",
       "  array([   0.,    3.,   24.,   46.,  105.,   13.,   19.,   14.,   28.,    4.]),\n",
       "  array([  0.,   4.,  22.,  39.,  98.,   2.,  14.,  15.,  57.,   5.]),\n",
       "  array([  0.,   7.,  16.,  42.,  94.,   4.,   3.,   6.,  53.,  31.]),\n",
       "  array([   0.,    6.,   20.,   32.,  101.,    1.,    4.,   21.,   39.,   32.]),\n",
       "  array([  0.,   4.,  23.,  36.,  93.,   8.,   4.,  18.,  64.,   6.]),\n",
       "  array([  0.,   3.,  25.,  34.,  95.,  12.,   4.,  27.,  50.,   6.]),\n",
       "  array([   0.,    7.,   21.,   35.,  101.,   23.,    3.,   10.,   51.,    5.]),\n",
       "  array([   0.,    6.,   34.,   30.,  111.,    5.,    4.,    9.,   51.,    6.]),\n",
       "  array([  0.,   8.,  32.,  32.,  98.,  16.,   3.,   6.,  54.,   7.]),\n",
       "  array([   0.,    8.,   27.,   28.,  108.,   13.,    5.,    6.,   54.,    7.]),\n",
       "  array([  0.,   9.,  24.,  46.,  93.,  13.,   4.,   7.,  54.,   6.]),\n",
       "  array([  1.,   8.,  27.,  39.,  98.,  12.,   5.,   6.,  55.,   5.]),\n",
       "  array([  1.,   6.,  26.,  37.,  95.,  10.,  14.,   5.,  56.,   6.]),\n",
       "  array([  0.,   7.,  22.,  26.,  98.,   7.,   6.,  16.,  67.,   7.]),\n",
       "  array([  0.,   7.,  22.,  27.,  94.,   2.,   6.,   9.,  56.,  33.]),\n",
       "  array([  0.,   8.,  21.,  29.,  91.,   4.,   6.,   9.,  57.,  31.]),\n",
       "  array([  0.,   7.,  21.,  31.,  90.,   9.,   6.,   9.,  76.,   7.]),\n",
       "  array([  0.,   7.,  23.,  31.,  94.,  10.,   7.,  22.,  56.,   6.]),\n",
       "  array([  0.,   6.,  24.,  43.,  86.,  25.,   3.,   6.,  56.,   7.]),\n",
       "  array([  0.,   5.,  26.,  35.,  93.,  21.,   8.,   5.,  57.,   6.]),\n",
       "  array([  0.,   8.,  23.,  26.,  98.,  18.,  15.,   6.,  55.,   7.]),\n",
       "  array([  0.,   9.,  22.,  28.,  92.,  18.,  13.,  11.,  56.,   7.]),\n",
       "  array([  0.,   8.,  25.,  24.,  95.,  15.,  20.,   7.,  56.,   6.]),\n",
       "  array([  1.,   6.,  25.,  37.,  84.,  28.,  10.,   6.,  54.,   5.]),\n",
       "  array([   0.,    8.,   24.,   38.,  114.,    4.,    4.,    4.,   55.,    5.]),\n",
       "  array([   0.,    9.,   22.,   45.,  110.,    2.,    3.,    5.,   55.,    5.]),\n",
       "  array([   0.,   10.,   22.,   36.,  118.,    1.,    5.,    3.,   56.,    5.]),\n",
       "  array([   1.,    9.,   21.,   39.,  116.,    2.,    3.,    5.,   55.,    5.]),\n",
       "  array([   0.,    8.,   24.,   40.,  115.,    1.,    4.,    3.,   56.,    5.]),\n",
       "  array([   0.,    8.,   23.,   37.,  116.,    4.,    2.,    6.,   55.,    5.]),\n",
       "  array([   1.,    7.,   23.,   30.,  123.,    4.,    3.,    7.,   54.,    4.]),\n",
       "  array([   1.,    6.,   24.,   33.,  120.,    4.,    2.,    8.,   53.,    5.]),\n",
       "  array([   0.,    9.,   22.,   35.,  118.,    3.,    5.,    5.,   55.,    4.]),\n",
       "  array([   0.,    9.,   22.,   46.,  106.,    6.,    2.,    5.,   55.,    5.]),\n",
       "  array([  0.,   7.,  27.,  56.,  88.,   9.,   5.,   3.,  56.,   5.]),\n",
       "  array([  0.,   9.,  25.,  67.,  73.,   8.,   7.,   7.,  55.,   5.]),\n",
       "  array([  1.,  11.,  34.,  67.,  65.,   6.,   6.,   6.,  55.,   5.]),\n",
       "  array([  0.,  20.,  50.,  56.,  57.,   3.,   4.,   5.,  56.,   5.]),\n",
       "  array([  9.,  18.,  44.,  41.,  44.,  21.,  12.,   6.,  56.,   5.]),\n",
       "  array([  1.,  25.,  46.,  29.,  20.,  17.,  21.,  22.,  65.,  10.]),\n",
       "  array([  1.,  24.,  46.,  23.,  13.,   6.,   7.,  25.,  70.,  41.]),\n",
       "  array([  0.,  28.,  43.,  18.,  13.,   6.,   6.,   8.,  58.,  76.]),\n",
       "  array([  1.,  29.,  41.,  15.,  16.,   5.,   5.,  13.,  54.,  77.]),\n",
       "  array([  0.,  28.,  44.,  19.,  12.,   7.,   7.,   9.,  62.,  68.]),\n",
       "  array([  2.,  32.,  39.,  24.,   9.,   6.,   9.,  10.,  97.,  28.]),\n",
       "  array([  2.,  39.,  32.,  22.,   9.,  15.,   9.,  39.,  82.,   7.]),\n",
       "  array([  2.,  32.,  37.,  24.,  18.,  10.,  20.,  55.,  53.,   5.]),\n",
       "  array([  4.,  26.,  41.,  25.,  17.,  11.,  61.,  12.,  54.,   5.]),\n",
       "  array([  1.,  25.,  41.,  24.,  26.,   8.,  57.,  14.,  55.,   5.]),\n",
       "  array([  2.,  25.,  40.,  23.,  21.,   7.,  69.,  10.,  53.,   6.]),\n",
       "  array([  2.,  28.,  37.,  21.,  21.,  16.,  62.,   4.,  59.,   6.]),\n",
       "  array([  1.,  29.,  35.,  20.,  22.,  18.,  61.,   6.,  58.,   6.]),\n",
       "  array([  0.,  29.,  37.,  18.,  23.,  20.,  57.,  10.,  58.,   4.]),\n",
       "  array([  2.,  27.,  35.,  26.,  18.,  18.,  57.,  10.,  58.,   5.]),\n",
       "  array([  1.,  30.,  33.,  28.,  15.,  19.,  60.,   6.,  60.,   4.]),\n",
       "  array([  0.,  29.,  32.,  27.,  19.,  19.,  57.,  10.,  58.,   5.]),\n",
       "  array([  1.,  30.,  30.,  19.,  30.,  18.,  49.,  14.,  60.,   5.]),\n",
       "  array([  2.,  28.,  31.,  25.,  22.,  22.,  41.,  21.,  59.,   5.]),\n",
       "  array([  4.,  26.,  30.,  29.,  19.,  21.,  55.,   8.,  59.,   5.]),\n",
       "  array([  2.,  26.,  31.,  29.,  14.,  43.,  40.,   5.,  61.,   5.]),\n",
       "  array([  3.,  25.,  32.,  28.,  41.,  45.,   8.,   6.,  61.,   7.]),\n",
       "  array([  0.,  30.,  31.,  59.,  50.,   8.,   4.,   5.,  62.,   7.]),\n",
       "  array([  0.,  18.,  43.,  70.,  39.,   9.,   3.,   4.,  63.,   7.]),\n",
       "  array([  0.,  17.,  46.,  54.,  47.,   4.,   6.,  10.,  64.,   8.]),\n",
       "  array([  1.,  18.,  49.,  44.,  52.,   5.,   6.,   3.,  62.,  16.]),\n",
       "  array([  2.,  20.,  52.,  41.,  48.,   5.,   5.,   5.,  64.,  14.]),\n",
       "  array([  2.,  18.,  55.,  41.,  47.,   7.,   3.,   7.,  62.,  14.]),\n",
       "  array([  0.,  19.,  55.,  46.,  49.,   4.,   2.,   6.,  62.,  13.]),\n",
       "  array([  1.,  28.,  49.,  49.,  42.,   4.,   4.,   4.,  62.,  13.]),\n",
       "  array([  3.,  26.,  47.,  46.,  48.,   3.,   5.,   4.,  63.,  11.]),\n",
       "  array([  1.,  30.,  47.,  39.,  52.,   5.,   4.,   5.,  62.,  11.]),\n",
       "  array([  2.,  22.,  54.,  39.,  55.,   2.,   5.,   6.,  61.,  10.]),\n",
       "  array([  1.,  27.,  50.,  38.,  54.,   6.,   1.,   6.,  63.,  10.]),\n",
       "  array([  0.,  24.,  54.,  41.,  50.,   6.,   4.,   4.,  65.,   8.]),\n",
       "  array([  0.,  24.,  51.,  46.,  49.,   6.,   3.,   4.,  66.,   7.]),\n",
       "  array([  0.,  26.,  49.,  49.,  50.,   4.,   3.,   4.,  64.,   7.]),\n",
       "  array([  1.,  22.,  54.,  45.,  52.,   3.,   5.,   6.,  63.,   5.]),\n",
       "  array([  2.,  24.,  52.,  46.,  49.,   6.,   4.,   7.,  64.,   2.]),\n",
       "  array([  2.,  30.,  53.,  50.,  40.,   5.,   8.,   3.,  64.,   1.]),\n",
       "  array([  2.,  37.,  52.,  37.,  42.,  12.,   5.,   8.,  61.,   0.]),\n",
       "  array([  1.,  34.,  44.,  41.,  20.,  15.,  15.,  23.,  63.,   0.]),\n",
       "  array([  3.,  20.,  37.,  38.,  23.,  14.,   9.,  12.,  74.,  26.]),\n",
       "  array([  5.,  18.,  33.,  40.,  13.,   8.,   8.,  14.,  72.,  45.]),\n",
       "  array([  4.,  15.,  35.,  39.,  13.,  10.,   6.,   7.,  78.,  49.]),\n",
       "  array([  2.,  17.,  34.,  35.,  16.,  10.,   9.,   8.,  88.,  37.]),\n",
       "  array([  2.,  21.,  31.,  37.,  15.,  10.,  27.,  33.,  80.,   0.]),\n",
       "  array([  2.,  22.,  31.,  43.,  50.,  31.,   8.,   5.,  64.,   0.]),\n",
       "  array([  1.,  24.,  55.,  56.,  34.,   8.,   8.,   7.,  63.,   0.]),\n",
       "  array([  2.,  26.,  54.,  40.,  47.,  10.,   6.,   7.,  64.,   0.]),\n",
       "  array([  1.,  25.,  52.,  44.,  47.,  11.,   7.,   3.,  66.,   0.]),\n",
       "  array([  2.,  23.,  55.,  45.,  46.,   7.,   9.,   5.,  64.,   0.]),\n",
       "  array([  0.,  29.,  54.,  42.,  46.,   7.,   7.,   5.,  66.,   0.]),\n",
       "  array([  3.,  29.,  53.,  46.,  36.,   7.,   6.,  10.,  66.,   0.]),\n",
       "  array([  1.,  33.,  53.,  45.,  34.,   6.,   6.,   9.,  65.,   4.]),\n",
       "  array([  0.,  31.,  54.,  49.,  33.,   5.,   5.,   8.,  66.,   5.]),\n",
       "  array([  1.,  27.,  63.,  41.,  35.,   3.,   8.,   7.,  67.,   4.]),\n",
       "  array([  3.,  27.,  61.,  47.,  31.,   4.,   9.,   7.,  67.,   0.]),\n",
       "  array([  3.,  23.,  58.,  47.,  40.,   7.,   6.,   7.,  65.,   0.]),\n",
       "  array([  2.,  26.,  58.,  47.,  39.,   8.,   4.,   6.,  66.,   0.]),\n",
       "  array([  2.,  26.,  58.,  47.,  40.,   7.,   3.,   7.,  66.,   0.]),\n",
       "  array([  3.,  27.,  56.,  46.,  39.,   8.,   5.,   7.,  65.,   0.]),\n",
       "  array([  3.,  28.,  54.,  51.,  34.,   9.,   5.,   6.,  66.,   0.]),\n",
       "  array([  2.,  25.,  59.,  48.,  38.,   6.,   6.,   4.,  68.,   0.]),\n",
       "  array([  0.,  27.,  58.,  46.,  40.,   7.,   6.,   5.,  67.,   0.]),\n",
       "  array([  0.,  27.,  55.,  50.,  36.,   8.,   9.,   5.,  66.,   0.]),\n",
       "  array([  4.,  20.,  62.,  42.,  42.,   8.,   6.,   6.,  66.,   0.]),\n",
       "  array([  3.,  19.,  63.,  53.,  33.,   7.,   5.,   4.,  69.,   0.]),\n",
       "  array([  0.,  27.,  57.,  49.,  39.,   7.,   4.,   6.,  67.,   0.]),\n",
       "  array([  1.,  25.,  59.,  48.,  38.,   6.,   6.,   5.,  68.,   0.]),\n",
       "  array([  2.,  23.,  65.,  50.,  29.,   8.,   5.,   6.,  68.,   0.]),\n",
       "  array([  2.,  25.,  60.,  48.,  34.,   7.,   7.,   6.,  67.,   0.]),\n",
       "  array([  3.,  20.,  62.,  46.,  39.,   4.,   8.,   4.,  70.,   0.]),\n",
       "  array([  1.,  24.,  62.,  43.,  41.,   4.,   7.,   6.,  68.,   0.]),\n",
       "  array([  2.,  26.,  57.,  50.,  36.,   6.,   5.,   5.,  69.,   0.]),\n",
       "  array([  4.,  22.,  61.,  47.,  35.,   7.,   5.,   5.,  70.,   0.]),\n",
       "  array([  4.,  21.,  61.,  48.,  33.,  10.,   4.,   6.,  69.,   0.]),\n",
       "  array([  3.,  22.,  63.,  50.,  30.,   7.,   6.,   5.,  70.,   0.]),\n",
       "  array([  3.,  22.,  64.,  49.,  30.,   5.,   9.,   4.,  70.,   0.]),\n",
       "  array([  2.,  23.,  64.,  46.,  33.,   7.,   7.,   5.,  69.,   0.]),\n",
       "  array([  1.,  25.,  63.,  45.,  36.,   5.,   5.,   7.,  69.,   0.]),\n",
       "  array([  2.,  26.,  61.,  50.,  30.,   6.,   5.,   6.,  70.,   0.]),\n",
       "  array([  3.,  26.,  61.,  47.,  30.,  10.,   3.,   7.,  69.,   0.]),\n",
       "  array([  2.,  24.,  65.,  39.,  36.,   8.,   6.,   5.,  71.,   0.]),\n",
       "  array([  2.,  28.,  58.,  37.,  43.,   5.,   7.,   6.,  70.,   0.]),\n",
       "  array([  3.,  24.,  62.,  39.,  42.,   3.,   7.,   6.,  70.,   0.]),\n",
       "  array([  2.,  31.,  54.,  38.,  42.,   5.,   8.,   5.,  71.,   0.]),\n",
       "  array([  3.,  28.,  54.,  42.,  35.,   5.,   8.,   9.,  72.,   0.]),\n",
       "  array([  3.,  26.,  53.,  41.,  35.,   8.,   6.,   7.,  73.,   4.]),\n",
       "  array([  2.,  24.,  57.,  39.,  35.,   7.,   7.,   8.,  72.,   5.]),\n",
       "  array([  0.,  29.,  58.,  42.,  30.,   6.,   7.,   7.,  73.,   4.]),\n",
       "  array([  0.,  28.,  59.,  40.,  33.,   5.,  10.,   7.,  72.,   2.]),\n",
       "  array([  1.,  27.,  55.,  46.,  33.,   7.,   8.,   5.,  74.,   0.]),\n",
       "  array([  0.,  19.,  57.,  54.,  30.,   8.,   8.,   6.,  74.,   0.]),\n",
       "  array([  0.,  19.,  58.,  50.,  32.,   7.,  10.,   7.,  73.,   0.]),\n",
       "  array([  0.,  18.,  56.,  51.,  32.,  13.,   8.,   6.,  72.,   0.]),\n",
       "  array([  0.,  26.,  49.,  46.,  36.,  12.,   9.,   4.,  74.,   0.]),\n",
       "  array([  0.,  26.,  44.,  58.,  30.,  10.,  11.,   5.,  72.,   0.]),\n",
       "  array([  0.,  22.,  44.,  56.,  36.,  10.,  10.,   6.,  72.,   0.]),\n",
       "  array([  0.,  24.,  46.,  54.,  32.,  11.,  11.,   5.,  73.,   0.]),\n",
       "  array([  3.,  24.,  43.,  51.,  37.,   8.,   9.,   7.,  74.,   0.]),\n",
       "  array([  7.,  18.,  43.,  48.,  39.,  10.,  10.,   6.,  75.,   0.]),\n",
       "  array([  7.,  20.,  40.,  51.,  36.,  14.,   7.,   5.,  74.,   2.]),\n",
       "  array([  1.,  20.,  40.,  56.,  36.,  17.,   4.,   4.,  75.,   3.]),\n",
       "  array([  0.,  15.,  48.,  59.,  24.,  12.,  14.,   8.,  73.,   3.])],\n",
       " array([   0. ,   25.5,   51. ,   76.5,  102. ,  127.5,  153. ,  178.5,\n",
       "         204. ,  229.5,  255. ]),\n",
       " <a list of 256 Lists of Patches objects>)"
      ]
     },
     "execution_count": 50,
     "metadata": {},
     "output_type": "execute_result"
    },
    {
     "data": {
      "image/png": "[encoded data removed]",
      "text/plain": [
       "<matplotlib.figure.Figure at 0x729a5c4a58>"
      ]
     },
     "metadata": {},
     "output_type": "display_data"
    }
   ],
   "source": [
    "matPlot.hist(data)"
   ]
  },
  {
   "cell_type": "code",
   "execution_count": 51,
   "metadata": {
    "collapsed": false
   },
   "outputs": [
    {
     "name": "stdout",
     "output_type": "stream",
     "text": [
      "[[[202 202 202 255]\n",
      "  [202 202 202 255]\n",
      "  [202 202 202 255]\n",
      "  ..., \n",
      "  [202 202 202 255]\n",
      "  [202 202 202 255]\n",
      "  [202 202 202 255]]\n",
      "\n",
      " [[204 204 204 255]\n",
      "  [204 204 204 255]\n",
      "  [204 204 204 255]\n",
      "  ..., \n",
      "  [204 204 204 255]\n",
      "  [204 204 204 255]\n",
      "  [204 204 204 255]]\n",
      "\n",
      " [[205 205 205 255]\n",
      "  [205 205 205 255]\n",
      "  [205 205 205 255]\n",
      "  ..., \n",
      "  [205 205 205 255]\n",
      "  [205 205 205 255]\n",
      "  [205 205 205 255]]\n",
      "\n",
      " ..., \n",
      " [[205 205 205 255]\n",
      "  [205 205 205 255]\n",
      "  [204 204 204 255]\n",
      "  ..., \n",
      "  [ 50  50  50 255]\n",
      "  [109 109 109 255]\n",
      "  [177 177 177 255]]\n",
      "\n",
      " [[203 203 203 255]\n",
      "  [204 204 204 255]\n",
      "  [204 204 204 255]\n",
      "  ..., \n",
      "  [ 51  51  51 255]\n",
      "  [101 101 101 255]\n",
      "  [164 164 164 255]]\n",
      "\n",
      " [[191 191 191 255]\n",
      "  [203 203 203 255]\n",
      "  [205 205 205 255]\n",
      "  ..., \n",
      "  [ 64  64  64 255]\n",
      "  [104 104 104 255]\n",
      "  [165 165 165 255]]]\n"
     ]
    }
   ],
   "source": [
    "print(img)"
   ]
  },
  {
   "cell_type": "code",
   "execution_count": null,
   "metadata": {
    "collapsed": false
   },
   "outputs": [],
   "source": [
    "img.size"
   ]
  },
  {
   "cell_type": "markdown",
   "metadata": {},
   "source": [
    "## Data Ujicoba\n",
    "\n",
    "**Scikit** sudah menyediakan beberapa data untuk ujicoba, seperti iris, diabetes, perumahan, dll.  Dataset ini dapat digunakan sebagai ujicoba klasifikasi, estimasi, *clustering*, dll.  \n",
    "Untuk menggunakan data ini, import scikit terlebih dahulu."
   ]
  },
  {
   "cell_type": "code",
   "execution_count": 52,
   "metadata": {
    "collapsed": true
   },
   "outputs": [],
   "source": [
    "from sklearn import datasets"
   ]
  },
  {
   "cell_type": "code",
   "execution_count": 53,
   "metadata": {
    "collapsed": false
   },
   "outputs": [],
   "source": [
    "iris=datasets.load_iris()\n",
    "featIris=iris.data[:,:3]\n",
    "targetIris=iris.target\n"
   ]
  },
  {
   "cell_type": "code",
   "execution_count": null,
   "metadata": {
    "collapsed": false
   },
   "outputs": [],
   "source": [
    "print(iris.feature_names)\n",
    "print(featIris)\n",
    "print(iris.target_names)\n",
    "print(targetIris)"
   ]
  }
 ],
 "metadata": {
  "kernelspec": {
   "display_name": "Python 3",
   "language": "python",
   "name": "python3"
  },
  "language_info": {
   "codemirror_mode": {
    "name": "ipython",
    "version": 3
   },
   "file_extension": ".py",
   "mimetype": "text/x-python",
   "name": "python",
   "nbconvert_exporter": "python",
   "pygments_lexer": "ipython3",
   "version": "3.6.0"
  }
 },
 "nbformat": 4,
 "nbformat_minor": 2
}
