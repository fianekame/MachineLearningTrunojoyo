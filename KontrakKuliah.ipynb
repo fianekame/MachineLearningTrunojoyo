{
 "cells": [
  {
   "cell_type": "markdown",
   "metadata": {},
   "source": [
    "# Machine Learning\n",
    "## Kontrak Kuliah\n",
    "\n",
    "Semester Ganjil 2018-2019"
   ]
  },
  {
   "cell_type": "markdown",
   "metadata": {},
   "source": [
    "### LMS\n",
    "Kode Edmodo : xtkz84\n",
    "\n",
    "### Penilaian  \n",
    "\n",
    "Komponen Penilaian :\n",
    "1. Tugas - 30%\n",
    "2. UTS - 30%\n",
    "3. Final Project - 35%\n",
    "4. Diskusi di dalam kelas - 5%"
   ]
  },
  {
   "cell_type": "markdown",
   "metadata": {},
   "source": [
    "###  Tugas\n",
    "\n",
    "Tugas berupa code pada masing-masing paradigma yang ditentukan.\n",
    "\n",
    "Ketentuan :\n",
    "1. Kelompok : 3-4 orang\n",
    "2. Penilaian : Individu - upload individu (tulis kelompok)\n",
    "3. Bahasa : Python \n",
    "4. Upload Edmodo berupa :\n",
    "    - file program (py) \n",
    "    - file ringkasan (pdf) : metode yang dikerjakan, data yang digunakan, deskripsi masing-masing function yang digunakan, manual eksekusi\n",
    "\n",
    "Berikut rubrik penilaian tugas:\n",
    "\n",
    "![PenilaianTugas](images/RubrikPenilaianTugas.jpg)"
   ]
  },
  {
   "cell_type": "markdown",
   "metadata": {},
   "source": [
    "### UTS\n",
    "\n",
    "UTS berupa ujian tulis.\n",
    "Ketentuan UTS :\n",
    "1. bersifat open (book, laptop, note)\n",
    "2. Tidak diperbolehkan kerjasama dalam bentuk apapun - jika ada plagiat akan bernilai NOL\n",
    "3. Tidak diperkenankan untuk koneksi internet"
   ]
  },
  {
   "cell_type": "markdown",
   "metadata": {},
   "source": [
    "### Final Project - UAS\n",
    "\n",
    "Final project adalah tugas akhir sebagai pengganti UAS.\n",
    "\n",
    "Hasil akhir dari final project paper yang terpublikasi dalam jurnal atau seminar lokal atau internasional\n",
    "\n",
    "Ketentuan Final Project :\n",
    "\n",
    "1. Kelompok : 3-4 orang (kelompok yang sama)\n",
    "2. Penilaian : Individu\n",
    "3. Bahasa : Python\n",
    "4. Final project based on the journal paper :\n",
    "    - code dan ujicoba\n",
    "    - analisa\n",
    "5. Upload Edmodo berupa :\n",
    "    - file program (py) \n",
    "    - file ringkasan (pdf) : metode yang dikerjakan, data yang digunakan, deskripsi masing-masing function yang digunakan, manual eksekusi\n",
    "    - file paper (dengan menggunakan template jurnal atau intl. conf./seminar lokal)\n",
    "    - file presentasi \n",
    "    - video presentasi (jika submit ke conf./seminar)\n",
    "\n",
    "Berikut rubrik penilaian FinalProject:\n",
    "\n",
    "![PenilaianFinalProject](images/RubrikPenilaianFinal.jpg)\n",
    "![PenilaianFinalProject](images/RubrikPenilaianFinal-2.jpg)\n"
   ]
  }
 ],
 "metadata": {
  "kernelspec": {
   "display_name": "Python 3",
   "language": "python",
   "name": "python3"
  },
  "language_info": {
   "codemirror_mode": {
    "name": "ipython",
    "version": 3
   },
   "file_extension": ".py",
   "mimetype": "text/x-python",
   "name": "python",
   "nbconvert_exporter": "python",
   "pygments_lexer": "ipython3",
   "version": "3.6.0"
  }
 },
 "nbformat": 4,
 "nbformat_minor": 2
}
