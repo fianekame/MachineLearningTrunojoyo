{
 "cells": [
  {
   "cell_type": "markdown",
   "metadata": {},
   "source": [
    "# Machine Learning\n",
    "## Linear Regression\n",
    "\n",
    "\n"
   ]
  },
  {
   "cell_type": "markdown",
   "metadata": {},
   "source": [
    "** Machine Learning** \n",
    "\n",
    "**Field of study that gives computers the ability to learn without being explicitly programmed** (Arthur Samuel -1959)\n",
    "\n",
    "**A computer program is said to learn from experience E with respect to some class of tasks T and performance measure P, if its performance at tasks in T, as measured by P, improves with experience E.** (Tom Michel 1999)\n",
    "\n",
    "\n",
    "![Learning](images/learningConcept.jpg)"
   ]
  },
  {
   "cell_type": "markdown",
   "metadata": {},
   "source": [
    "Application of Machine Learning :\n",
    "- recognition : face, object, speech, gait, handwritten \n",
    "- detection, identification : object, fraud (credit card), spam email, disease\n",
    "- recommender problems : the most liked movies, products, and etc\n",
    "- prediction : stock prices, housing\n",
    "- etc"
   ]
  },
  {
   "cell_type": "markdown",
   "metadata": {},
   "source": [
    "Learning :\n",
    "1. Supervised learning\n",
    "    - learn from the supervisor\n",
    "    - teach the computer \n",
    "\n",
    "2. Unsupervised learning\n",
    "    - computer learn form the data"
   ]
  },
  {
   "cell_type": "markdown",
   "metadata": {},
   "source": [
    "## Supervised Learning - Regression"
   ]
  },
  {
   "cell_type": "markdown",
   "metadata": {},
   "source": [
    "Data set : harga rumah berdasarkan luas/ukuran rumah\n",
    "\n",
    "![housing](images/housingprices.jpg)\n",
    "\n",
    "Problem : Berapa harga rumah dengan ukuran luas 1250 \n",
    "\n",
    "### Regression\n",
    "\n",
    "bertujuan untuk prediksi atau menghasilkan nilai real (continous value) berdasarkan sejumlah fitur atau atribut\n",
    "\n",
    "### Linear Regression\n",
    "\n",
    "yaitu suatu model yang mengasumsikan relasi antara input variabel ($x$) dan output variabel ($y$) adalah linear.  Bentuk model regressi linear adalah sebagai berikut :\n",
    "\n",
    "\\begin{eqnarray}\n",
    "f:\\Re \\rightarrow \\Re \\quad f(x;w)&=&w_0+w_1x \\\\\n",
    "f:\\Re \\rightarrow \\Re^d \\quad f(x;w)&=&w_0+w_1x_1+...+w_dx_d \\\\\n",
    "\\end{eqnarray}\n",
    "\n",
    "$f(x;w)$ atau $y$ adalah output variabel, $x$ adalah input atau fitur atau atribut, dan $w$ adalah parameter atau *coefficients* yang akan dicari dengan menggunakan regressi\n"
   ]
  },
  {
   "cell_type": "markdown",
   "metadata": {},
   "source": [
    "$w_0$ secara umum disebut dengan bias atau untuk persamaan linear ini disebut dengan *intercept*"
   ]
  },
  {
   "cell_type": "markdown",
   "metadata": {},
   "source": [
    "Jika hanya terdapat satu fitur atau satu dimensi atau satu input saja, maka disebut dengan *simple linear regression* atau *univariate regression*.  Model yang dibentuk atau regressi yang dihasilkan disebut dengan *line* atau *plane*.\n",
    "\n",
    "Jika lebih dari satu dimensi, disebut dengan *multivariate regression*, hasil dari regressi untuk multivariate ini disebut dengan *hyperplane*"
   ]
  },
  {
   "cell_type": "markdown",
   "metadata": {},
   "source": [
    "### Simple Linear Regression\n",
    "\n",
    "Prediksi harga rumah, dengan data sebagai berikut :\n",
    "![housing](images/housingtable.jpg)"
   ]
  },
  {
   "cell_type": "code",
   "execution_count": 1,
   "metadata": {
    "collapsed": false,
    "scrolled": true
   },
   "outputs": [
    {
     "data": {
      "image/png": "[encoded data removed]",
      "text/plain": [
       "<matplotlib.figure.Figure at 0xcb65eaa860>"
      ]
     },
     "metadata": {},
     "output_type": "display_data"
    }
   ],
   "source": [
    "import matplotlib.pyplot as plt\n",
    "X=[[2104],[1416],[1539],[852],[1940]]\n",
    "Y=[[400],[232],[315],[178],[240]]\n",
    "\n",
    "plt.title('Prediksi Harga Rumah')\n",
    "plt.xlabel('Luas')\n",
    "plt.ylabel('Harga ($)')\n",
    "plt.plot(X, Y, 'k.')\n",
    "plt.grid(True)\n",
    "plt.show()"
   ]
  },
  {
   "cell_type": "markdown",
   "metadata": {},
   "source": [
    "Dari data diatas, dapat dilihat bahwa terdapat korelasi **positif** antara luas rumah dengan harga rumah, yaitu, semakin besar luasan rumah, maka harga rumah semakin mahal"
   ]
  },
  {
   "cell_type": "markdown",
   "metadata": {},
   "source": [
    "### Learning"
   ]
  },
  {
   "cell_type": "code",
   "execution_count": 2,
   "metadata": {
    "collapsed": true
   },
   "outputs": [],
   "source": [
    "from sklearn.linear_model import LinearRegression\n"
   ]
  },
  {
   "cell_type": "markdown",
   "metadata": {},
   "source": [
    "** Learning **"
   ]
  },
  {
   "cell_type": "code",
   "execution_count": 12,
   "metadata": {
    "collapsed": false
   },
   "outputs": [
    {
     "data": {
      "text/plain": [
       "LinearRegression(copy_X=True, fit_intercept=True, n_jobs=1, normalize=False)"
      ]
     },
     "execution_count": 12,
     "metadata": {},
     "output_type": "execute_result"
    }
   ],
   "source": [
    "X=[[2104],[1416],[1539],[852],[1940]]\n",
    "Y=[[400],[232],[315],[178],[240]]\n",
    "model = LinearRegression()\n",
    "model.fit(X, Y)\n"
   ]
  },
  {
   "cell_type": "markdown",
   "metadata": {},
   "source": [
    "** Testing **"
   ]
  },
  {
   "cell_type": "code",
   "execution_count": 14,
   "metadata": {
    "collapsed": false
   },
   "outputs": [
    {
     "data": {
      "text/plain": [
       "array([[ 230.13060588]])"
      ]
     },
     "execution_count": 14,
     "metadata": {},
     "output_type": "execute_result"
    }
   ],
   "source": [
    "model.predict(1250)"
   ]
  },
  {
   "cell_type": "markdown",
   "metadata": {},
   "source": [
    "** Parameter Learning **"
   ]
  },
  {
   "cell_type": "code",
   "execution_count": 18,
   "metadata": {
    "collapsed": false,
    "scrolled": true
   },
   "outputs": [
    {
     "name": "stdout",
     "output_type": "stream",
     "text": [
      "[[ 0.13388318]]\n",
      "[ 62.77663135]\n"
     ]
    }
   ],
   "source": [
    "print(model.coef_)\n",
    "print(model.intercept_)"
   ]
  },
  {
   "cell_type": "markdown",
   "metadata": {},
   "source": [
    "Untuk Simple Linear Regression / Univariate Regression, dimana $y=w_0+w_1x$, maka bias atau intercept, dan koefisien dari input, dapat dihitung dengan menggunakan variance dan covariance dari dataset.\n",
    "\n",
    "\\begin{eqnarray}\n",
    "var(x)&=&\\frac{\\sum_{i=1}^{n}(x_i-\\bar{x})^2}{n-1}\\\\\n",
    "cov(x,y)&=&\\frac{\\sum_{i=1}^{n}(x_i-\\bar{x})(y_i-\\bar{y})}{n-1}\\\\\n",
    "\\end{eqnarray}\n",
    "\n",
    "koefisien dan intercept dari model regressi linear adalah :\n",
    "\\begin{eqnarray}\n",
    "w_1&=&\\frac{cov(x,y)}{var(x)}\\\\\n",
    "w_0&=&\\bar{y}-w_1\\bar{x}\n",
    "\\end{eqnarray}\n"
   ]
  },
  {
   "cell_type": "code",
   "execution_count": 27,
   "metadata": {
    "collapsed": false
   },
   "outputs": [
    {
     "name": "stdout",
     "output_type": "stream",
     "text": [
      "0.13388317962523097\n",
      "62.77663135246232\n"
     ]
    }
   ],
   "source": [
    "X=[[2104],[1416],[1539],[852],[1940]]\n",
    "Y=[[400],[232],[315],[178],[240]]\n",
    "\n",
    "tempX=0\n",
    "tempY=0\n",
    "for i in range(len(X)):\n",
    "    tempX=tempX+X[i][0]\n",
    "    tempY=tempY+Y[i][0]\n",
    "meanX=float(tempX/len(X))    \n",
    "meanY=float(tempY/len(Y))\n",
    "\n",
    "varX=0\n",
    "cov=0\n",
    "for i in range(len(X)):\n",
    "    varX=varX+(X[i][0]-meanX)**2\n",
    "    cov=cov+(X[i][0]-meanX)*(Y[i][0]-meanY)\n",
    "varX=varX/(len(X)-1)\n",
    "cov=cov/(len(X)-1)\n",
    "\n",
    "coef=float(cov/varX)\n",
    "print(coef)\n",
    "intrcpt=meanY-coef*meanX\n",
    "print(intrcpt)"
   ]
  },
  {
   "cell_type": "markdown",
   "metadata": {},
   "source": [
    "### Multivariate Linear Regression\n",
    "\n",
    "yaitu, jika model yang akan dibentuk berdasarkan beberapa fitur atau atribut, $f(x;w)=w_0+w_1x_1+...+w_dx_d$\n",
    "\n",
    "Pencarian paramater tersebut membutuhkan :\n",
    "- loss function\n",
    "- meminimalkan loss function\n",
    "\n",
    "Loss Function :\n",
    "\\begin{eqnarray}\n",
    "J_n(w)=\\frac{1}{n}\\sum_{i=1}^{n}(y_i-f(x_i;w))^2\n",
    "\\end{eqnarray}"
   ]
  },
  {
   "cell_type": "markdown",
   "metadata": {},
   "source": [
    "### Gradient Descent \n",
    "\n",
    "Untuk mencari nilai koefisien dari model yang akan dibentuk, dapat dilakukan dengan cara meminimalkan error dari model yang dihasilkan dari data training, atau yang disebut dengan Gradient Descent.\n",
    "\n",
    "Tahapan yang dilakukan pada Gradient Descent :\n",
    "1. Hitung error yang dihasilkan oleh setiap data set (antara output dengan target)\n",
    "2. Gunakan *learning rate* untuk menentukan seberapa jauh perubahan menuju error minimal\n",
    "3. Lakukan berulang kali sampai error minimal tercapai"
   ]
  },
  {
   "cell_type": "markdown",
   "metadata": {},
   "source": [
    "Model regressi linear seperti ini dapat direpresentasikan dengan matriks sebagai berikut :\n",
    "\\begin{eqnarray}\n",
    "y=\n",
    " \\begin{bmatrix}\n",
    "   y_1 \\\\\n",
    "   ...\\\\\n",
    "   y_n\n",
    "   \\end{bmatrix}\n",
    "\\quad X=  \n",
    "  \\begin{bmatrix}\n",
    "   1 \\quad x_1 \\\\\n",
    "   ... \\quad...\\\\\n",
    "   1 \\quad x_n\n",
    "   \\end{bmatrix}\n",
    "\\quad w=  \n",
    "  \\begin{bmatrix}\n",
    "   w_0 \\\\\n",
    "   ...\\\\\n",
    "   w_1\n",
    "   \\end{bmatrix}   \n",
    "\\end{eqnarray}\n",
    "\n",
    "\\begin{eqnarray}\n",
    "\\frac{1}{n}\\sum_{i=1}^{n}(y_i-f(x;w))^2&=&\\frac{1}{n}\n",
    "\\Bigg[\\begin{bmatrix}\n",
    "y_1\\\\\n",
    "...\\\\\n",
    "y_n\n",
    "\\end{bmatrix}-\\begin{bmatrix}\n",
    "1 \\quad x_1\\\\\n",
    "...\\quad ...\\\\\n",
    "1 \\quad x_n\n",
    "\\end{bmatrix}\n",
    "\\begin{bmatrix}\n",
    "w_0\\\\\n",
    "...\\\\\n",
    "w_1\n",
    "\\end{bmatrix}\n",
    "\\Bigg]^2\\\\\n",
    "&=&\\frac{1}{n}[y-Xw]^2\n",
    "\\end{eqnarray}\n",
    "\n",
    "\\begin{eqnarray}\n",
    "\\frac{\\partial}{\\partial w}\\frac{1}{n}[y-Xw]^2&=&\\frac{2}{n}X^T(y-Xw)\\\\\n",
    "&=&\\frac{2}{n}(X^Ty-X^TXw)=0\\\\\n",
    "w&=&(X^TX)^{-1}X^Ty\n",
    "\\end{eqnarray}\n"
   ]
  },
  {
   "cell_type": "code",
   "execution_count": 6,
   "metadata": {
    "collapsed": true
   },
   "outputs": [],
   "source": [
    "from numpy.linalg import inv\n",
    "from numpy import dot, transpose"
   ]
  },
  {
   "cell_type": "code",
   "execution_count": 9,
   "metadata": {
    "collapsed": false
   },
   "outputs": [
    {
     "name": "stdout",
     "output_type": "stream",
     "text": [
      "[[ 62.77663135]\n",
      " [  0.13388318]]\n"
     ]
    }
   ],
   "source": [
    "X=[[1,2104],[1,1416],[1,1539],[1,852],[1,1940]]\n",
    "Y=[[400],[232],[315],[178],[240]]\n",
    "print (dot(inv(dot(transpose(X), X)), dot(transpose(X), Y)))"
   ]
  },
  {
   "cell_type": "code",
   "execution_count": 1,
   "metadata": {
    "collapsed": true
   },
   "outputs": [],
   "source": [
    "from sklearn import datasets\n"
   ]
  },
  {
   "cell_type": "code",
   "execution_count": 3,
   "metadata": {
    "collapsed": true
   },
   "outputs": [],
   "source": [
    "data=datasets.load_boston()\n"
   ]
  },
  {
   "cell_type": "code",
   "execution_count": 4,
   "metadata": {
    "collapsed": false
   },
   "outputs": [
    {
     "data": {
      "text/plain": [
       "array(['CRIM', 'ZN', 'INDUS', 'CHAS', 'NOX', 'RM', 'AGE', 'DIS', 'RAD',\n",
       "       'TAX', 'PTRATIO', 'B', 'LSTAT'],\n",
       "      dtype='<U7')"
      ]
     },
     "execution_count": 4,
     "metadata": {},
     "output_type": "execute_result"
    }
   ],
   "source": [
    "data.feature_names"
   ]
  }
 ],
 "metadata": {
  "kernelspec": {
   "display_name": "Python 3",
   "language": "python",
   "name": "python3"
  },
  "language_info": {
   "codemirror_mode": {
    "name": "ipython",
    "version": 3
   },
   "file_extension": ".py",
   "mimetype": "text/x-python",
   "name": "python",
   "nbconvert_exporter": "python",
   "pygments_lexer": "ipython3",
   "version": "3.6.0"
  }
 },
 "nbformat": 4,
 "nbformat_minor": 2
}
