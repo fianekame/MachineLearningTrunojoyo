{
 "cells": [
  {
   "cell_type": "markdown",
   "metadata": {},
   "source": [
    "# Machine Learning\n",
    "## Rencana Perkuliahan Semester\n",
    "\n",
    "Semester Ganjil 2018-2019"
   ]
  },
  {
   "cell_type": "markdown",
   "metadata": {},
   "source": [
    "## Materi Perkuliahan\n",
    "Berikut daftar isi materi Struktur Data selama satu Semester ini :\n",
    "\n",
    "### Kontrak Kuliah\n",
    " [Kontrak Perkuliahan](KontrakKuliah.ipynb)\n",
    "\n",
    "### 1. Pengenalan Machine Learning\n",
    "  [Pengenalan dan Scikit](introductionNumpy.ipynb) \n",
    "\n",
    "### 2. Regression \n",
    "  + [2.1-Linear Regression](2_1-linearRegression.ipynb)\n",
    "  + [2.2-Logistic Regression](2_2-linearRegression.ipynb)\n",
    "\n",
    "### 3. Linear Discriminant Analysis (LDA)\n",
    "  + [3.1-LDA](3_1-LDA.ipynb)\n",
    "  + [3.2-Training](3_2-LDATraining.ipynb)\n",
    "  + [3.3-Testing](3_3-Testing.ipynb)\n",
    "\n",
    "  \n",
    "### 4. Classification and Regression Trees \n",
    "  + [4.1-CART Model](4_1-CART.ipynb)\n",
    "  + [4.2-Training](4_2-LDATraining.ipynb)\n",
    "  + [4.3-Testing](4_3-Testing.ipynb)7\n",
    "\n",
    "\n",
    "### 5. Naive Bayes Classifier\n",
    "  + [5.1-Naive Bayes](5_1-NaiveBayes.ipynb)\n",
    "  + [5.2-Training](5_2-NaiveTrainig.ipynb)\n",
    "  + [5.3-Testing](5_3-NaiveTesting.ipynb)\n",
    "\n",
    "\n",
    "### 6. Neural Networks - Deep Learning\n",
    "  + [6.1-Convolutional Neural Network](6_1-CNN.ipynb)\n",
    "  + [6.2-Training](6_2-CNNTraining.ipynb)\n",
    "  + [6.3-Testing](6_3-CNNTesting.ipynb)\n",
    "\n",
    "\n",
    "### 7. Support Vector Machine\n",
    "  + [7.1-Convolutional Neural Network](7_1-CNN.ipynb)\n",
    "  + [7.2-Training](7_2-CNNTraining.ipynb)\n",
    "  + [7.3-Testing](7_3-CNNTesting.ipynb)\n",
    "\n",
    "\n",
    "### 8. Cascade Classifier\n",
    "  + [8.1-Adaboost Classifier](8_1-Adaboost.ipynb)\n",
    "  + [8.2-Training](8_2-CNNTraining.ipynb)\n",
    "  + [8.3-Testing](8_3-CNNTesting.ipynb)\n",
    "\n",
    "\n",
    "\n",
    "\n",
    "  \n",
    "  "
   ]
  },
  {
   "cell_type": "code",
   "execution_count": null,
   "metadata": {
    "collapsed": true
   },
   "outputs": [],
   "source": []
  }
 ],
 "metadata": {
  "kernelspec": {
   "display_name": "Python 3",
   "language": "python",
   "name": "python3"
  },
  "language_info": {
   "codemirror_mode": {
    "name": "ipython",
    "version": 3
   },
   "file_extension": ".py",
   "mimetype": "text/x-python",
   "name": "python",
   "nbconvert_exporter": "python",
   "pygments_lexer": "ipython3",
   "version": "3.6.0"
  }
 },
 "nbformat": 4,
 "nbformat_minor": 2
}
